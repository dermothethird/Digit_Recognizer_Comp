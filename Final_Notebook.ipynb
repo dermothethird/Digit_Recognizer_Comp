{
 "cells": [
  {
   "cell_type": "markdown",
   "metadata": {},
   "source": [
    "# Digit Recognizer Kaggle Competition\n",
    "\n",
    "**Authors:** Dermot O'Brien\n",
    "***"
   ]
  },
  {
   "cell_type": "markdown",
   "metadata": {},
   "source": [
    "## Overview\n",
    "\n",
    "A one-paragraph overview of the project, including the business problem, data, methods, results and recommendations."
   ]
  },
  {
   "cell_type": "markdown",
   "metadata": {},
   "source": [
    "## Business Problem\n",
    "\n",
    "Summary of the business problem you are trying to solve, and the data questions that you plan to answer to solve them."
   ]
  },
  {
   "cell_type": "markdown",
   "metadata": {},
   "source": [
    "## Data Understanding\n",
    "\n",
    "Describe the data being used for this project.\n",
    "***"
   ]
  },
  {
   "cell_type": "code",
   "execution_count": 1,
   "metadata": {},
   "outputs": [],
   "source": [
    "# Import standard packages\n",
    "import numpy as np\n",
    "import pandas as pd\n",
    "import matplotlib.pyplot as plt\n",
    "%matplotlib inline\n",
    "import seaborn as sns\n",
    "import tensorflow as tf\n",
    "from keras.utils.np_utils import to_categorical\n",
    "from keras.optimizers import Adam, SGD\n",
    "from sklearn.model_selection import train_test_split"
   ]
  },
  {
   "cell_type": "code",
   "execution_count": 2,
   "metadata": {},
   "outputs": [],
   "source": [
    "# Import the training and testing data\n",
    "train_df = pd.read_csv('./Data/train.csv')\n",
    "test_df = pd.read_csv('./Data/test.csv')"
   ]
  },
  {
   "cell_type": "code",
   "execution_count": 3,
   "metadata": {
    "scrolled": true
   },
   "outputs": [
    {
     "data": {
      "text/html": [
       "<div>\n",
       "<style scoped>\n",
       "    .dataframe tbody tr th:only-of-type {\n",
       "        vertical-align: middle;\n",
       "    }\n",
       "\n",
       "    .dataframe tbody tr th {\n",
       "        vertical-align: top;\n",
       "    }\n",
       "\n",
       "    .dataframe thead th {\n",
       "        text-align: right;\n",
       "    }\n",
       "</style>\n",
       "<table border=\"1\" class=\"dataframe\">\n",
       "  <thead>\n",
       "    <tr style=\"text-align: right;\">\n",
       "      <th></th>\n",
       "      <th>label</th>\n",
       "      <th>pixel0</th>\n",
       "      <th>pixel1</th>\n",
       "      <th>pixel2</th>\n",
       "      <th>pixel3</th>\n",
       "      <th>pixel4</th>\n",
       "      <th>pixel5</th>\n",
       "      <th>pixel6</th>\n",
       "      <th>pixel7</th>\n",
       "      <th>pixel8</th>\n",
       "      <th>...</th>\n",
       "      <th>pixel774</th>\n",
       "      <th>pixel775</th>\n",
       "      <th>pixel776</th>\n",
       "      <th>pixel777</th>\n",
       "      <th>pixel778</th>\n",
       "      <th>pixel779</th>\n",
       "      <th>pixel780</th>\n",
       "      <th>pixel781</th>\n",
       "      <th>pixel782</th>\n",
       "      <th>pixel783</th>\n",
       "    </tr>\n",
       "  </thead>\n",
       "  <tbody>\n",
       "    <tr>\n",
       "      <th>0</th>\n",
       "      <td>1</td>\n",
       "      <td>0</td>\n",
       "      <td>0</td>\n",
       "      <td>0</td>\n",
       "      <td>0</td>\n",
       "      <td>0</td>\n",
       "      <td>0</td>\n",
       "      <td>0</td>\n",
       "      <td>0</td>\n",
       "      <td>0</td>\n",
       "      <td>...</td>\n",
       "      <td>0</td>\n",
       "      <td>0</td>\n",
       "      <td>0</td>\n",
       "      <td>0</td>\n",
       "      <td>0</td>\n",
       "      <td>0</td>\n",
       "      <td>0</td>\n",
       "      <td>0</td>\n",
       "      <td>0</td>\n",
       "      <td>0</td>\n",
       "    </tr>\n",
       "    <tr>\n",
       "      <th>1</th>\n",
       "      <td>0</td>\n",
       "      <td>0</td>\n",
       "      <td>0</td>\n",
       "      <td>0</td>\n",
       "      <td>0</td>\n",
       "      <td>0</td>\n",
       "      <td>0</td>\n",
       "      <td>0</td>\n",
       "      <td>0</td>\n",
       "      <td>0</td>\n",
       "      <td>...</td>\n",
       "      <td>0</td>\n",
       "      <td>0</td>\n",
       "      <td>0</td>\n",
       "      <td>0</td>\n",
       "      <td>0</td>\n",
       "      <td>0</td>\n",
       "      <td>0</td>\n",
       "      <td>0</td>\n",
       "      <td>0</td>\n",
       "      <td>0</td>\n",
       "    </tr>\n",
       "    <tr>\n",
       "      <th>2</th>\n",
       "      <td>1</td>\n",
       "      <td>0</td>\n",
       "      <td>0</td>\n",
       "      <td>0</td>\n",
       "      <td>0</td>\n",
       "      <td>0</td>\n",
       "      <td>0</td>\n",
       "      <td>0</td>\n",
       "      <td>0</td>\n",
       "      <td>0</td>\n",
       "      <td>...</td>\n",
       "      <td>0</td>\n",
       "      <td>0</td>\n",
       "      <td>0</td>\n",
       "      <td>0</td>\n",
       "      <td>0</td>\n",
       "      <td>0</td>\n",
       "      <td>0</td>\n",
       "      <td>0</td>\n",
       "      <td>0</td>\n",
       "      <td>0</td>\n",
       "    </tr>\n",
       "    <tr>\n",
       "      <th>3</th>\n",
       "      <td>4</td>\n",
       "      <td>0</td>\n",
       "      <td>0</td>\n",
       "      <td>0</td>\n",
       "      <td>0</td>\n",
       "      <td>0</td>\n",
       "      <td>0</td>\n",
       "      <td>0</td>\n",
       "      <td>0</td>\n",
       "      <td>0</td>\n",
       "      <td>...</td>\n",
       "      <td>0</td>\n",
       "      <td>0</td>\n",
       "      <td>0</td>\n",
       "      <td>0</td>\n",
       "      <td>0</td>\n",
       "      <td>0</td>\n",
       "      <td>0</td>\n",
       "      <td>0</td>\n",
       "      <td>0</td>\n",
       "      <td>0</td>\n",
       "    </tr>\n",
       "    <tr>\n",
       "      <th>4</th>\n",
       "      <td>0</td>\n",
       "      <td>0</td>\n",
       "      <td>0</td>\n",
       "      <td>0</td>\n",
       "      <td>0</td>\n",
       "      <td>0</td>\n",
       "      <td>0</td>\n",
       "      <td>0</td>\n",
       "      <td>0</td>\n",
       "      <td>0</td>\n",
       "      <td>...</td>\n",
       "      <td>0</td>\n",
       "      <td>0</td>\n",
       "      <td>0</td>\n",
       "      <td>0</td>\n",
       "      <td>0</td>\n",
       "      <td>0</td>\n",
       "      <td>0</td>\n",
       "      <td>0</td>\n",
       "      <td>0</td>\n",
       "      <td>0</td>\n",
       "    </tr>\n",
       "  </tbody>\n",
       "</table>\n",
       "<p>5 rows × 785 columns</p>\n",
       "</div>"
      ],
      "text/plain": [
       "   label  pixel0  pixel1  pixel2  pixel3  pixel4  pixel5  pixel6  pixel7  \\\n",
       "0      1       0       0       0       0       0       0       0       0   \n",
       "1      0       0       0       0       0       0       0       0       0   \n",
       "2      1       0       0       0       0       0       0       0       0   \n",
       "3      4       0       0       0       0       0       0       0       0   \n",
       "4      0       0       0       0       0       0       0       0       0   \n",
       "\n",
       "   pixel8  ...  pixel774  pixel775  pixel776  pixel777  pixel778  pixel779  \\\n",
       "0       0  ...         0         0         0         0         0         0   \n",
       "1       0  ...         0         0         0         0         0         0   \n",
       "2       0  ...         0         0         0         0         0         0   \n",
       "3       0  ...         0         0         0         0         0         0   \n",
       "4       0  ...         0         0         0         0         0         0   \n",
       "\n",
       "   pixel780  pixel781  pixel782  pixel783  \n",
       "0         0         0         0         0  \n",
       "1         0         0         0         0  \n",
       "2         0         0         0         0  \n",
       "3         0         0         0         0  \n",
       "4         0         0         0         0  \n",
       "\n",
       "[5 rows x 785 columns]"
      ]
     },
     "execution_count": 3,
     "metadata": {},
     "output_type": "execute_result"
    }
   ],
   "source": [
    "# Take a look at the training data\n",
    "train_df.head()"
   ]
  },
  {
   "cell_type": "code",
   "execution_count": 4,
   "metadata": {},
   "outputs": [
    {
     "name": "stdout",
     "output_type": "stream",
     "text": [
      "Train Shape: (42000, 785)\n",
      "Test Shape:  (28000, 784)\n"
     ]
    }
   ],
   "source": [
    "# Check the shape of train and test data\n",
    "print('Train Shape:', train_df.shape)\n",
    "print('Test Shape: ', test_df.shape)"
   ]
  },
  {
   "cell_type": "code",
   "execution_count": 5,
   "metadata": {},
   "outputs": [
    {
     "name": "stderr",
     "output_type": "stream",
     "text": [
      "/Users/dermotobrien/opt/anaconda3/envs/learn-env/lib/python3.8/site-packages/seaborn/_decorators.py:36: FutureWarning: Pass the following variable as a keyword arg: x. From version 0.12, the only valid positional argument will be `data`, and passing other arguments without an explicit keyword will result in an error or misinterpretation.\n",
      "  warnings.warn(\n"
     ]
    },
    {
     "data": {
      "image/png": "[encoded data removed]",
      "text/plain": [
       "<Figure size 432x288 with 1 Axes>"
      ]
     },
     "metadata": {
      "needs_background": "light"
     },
     "output_type": "display_data"
    }
   ],
   "source": [
    "# Visualize count for each digit in train data\n",
    "sns.countplot('label',data=train_df)\n",
    "plt.show()"
   ]
  },
  {
   "cell_type": "markdown",
   "metadata": {},
   "source": [
    "## Data Preparation\n",
    "\n",
    "Describe and justify the process for preparing the data for analysis."
   ]
  },
  {
   "cell_type": "markdown",
   "metadata": {},
   "source": [
    "### Create X and y datasets for train and test data"
   ]
  },
  {
   "cell_type": "code",
   "execution_count": 6,
   "metadata": {},
   "outputs": [],
   "source": [
    "X_train = train_df.drop('label',axis=1)\n",
    "y_train = train_df['label']\n",
    "X_test = test_df"
   ]
  },
  {
   "cell_type": "markdown",
   "metadata": {},
   "source": [
    "### Scaling Data\n",
    "Since the number for pixels varies between 0-255, we are going to scale the data by diving each pixel by 255"
   ]
  },
  {
   "cell_type": "code",
   "execution_count": 7,
   "metadata": {},
   "outputs": [],
   "source": [
    "X_train_scaled = X_train/255\n",
    "X_test_scaled = X_test/255"
   ]
  },
  {
   "cell_type": "markdown",
   "metadata": {},
   "source": [
    "### Reshape Data"
   ]
  },
  {
   "cell_type": "code",
   "execution_count": 8,
   "metadata": {},
   "outputs": [
    {
     "data": {
      "text/plain": [
       "((42000, 28, 28, 1), (28000, 28, 28, 1))"
      ]
     },
     "execution_count": 8,
     "metadata": {},
     "output_type": "execute_result"
    }
   ],
   "source": [
    "X_train_scaled = X_train_scaled.values.reshape(-1,28,28,1)\n",
    "X_test_scaled = X_test_scaled.values.reshape(-1,28,28,1)\n",
    "X_train_scaled.shape, X_test_scaled.shape"
   ]
  },
  {
   "cell_type": "markdown",
   "metadata": {},
   "source": [
    "### One-Hot Encoding"
   ]
  },
  {
   "cell_type": "code",
   "execution_count": 9,
   "metadata": {},
   "outputs": [
    {
     "data": {
      "text/plain": [
       "(42000, 10)"
      ]
     },
     "execution_count": 9,
     "metadata": {},
     "output_type": "execute_result"
    }
   ],
   "source": [
    "y_train = to_categorical(y_train, num_classes=10)\n",
    "y_train.shape"
   ]
  },
  {
   "cell_type": "markdown",
   "metadata": {},
   "source": [
    "### Train Test Split the training data"
   ]
  },
  {
   "cell_type": "code",
   "execution_count": 10,
   "metadata": {},
   "outputs": [
    {
     "name": "stdout",
     "output_type": "stream",
     "text": [
      "X_train Shape: (31500, 28, 28, 1)\n",
      "y_train Shape: (31500, 10)\n"
     ]
    }
   ],
   "source": [
    "X_train, X_val, y_train, y_val = train_test_split(X_train_scaled, y_train)\n",
    "print('X_train Shape:', X_train.shape)\n",
    "print('y_train Shape:', y_train.shape)"
   ]
  },
  {
   "cell_type": "markdown",
   "metadata": {},
   "source": [
    "### Visualize an image"
   ]
  },
  {
   "cell_type": "code",
   "execution_count": 11,
   "metadata": {},
   "outputs": [
    {
     "data": {
      "image/png": "[encoded data removed]",
      "text/plain": [
       "<Figure size 432x288 with 1 Axes>"
      ]
     },
     "metadata": {
      "needs_background": "light"
     },
     "output_type": "display_data"
    }
   ],
   "source": [
    "plt.imshow(X_train[0][:,:,0])\n",
    "plt.title(y_train[0].argmax());"
   ]
  },
  {
   "cell_type": "markdown",
   "metadata": {},
   "source": [
    "## Data Modeling\n",
    "Describe and justify the process for analyzing or modeling the data."
   ]
  },
  {
   "cell_type": "code",
   "execution_count": 12,
   "metadata": {},
   "outputs": [
    {
     "name": "stdout",
     "output_type": "stream",
     "text": [
      "Model: \"sequential\"\n",
      "_________________________________________________________________\n",
      "Layer (type)                 Output Shape              Param #   \n",
      "=================================================================\n",
      "conv2d (Conv2D)              (None, 26, 26, 32)        320       \n",
      "_________________________________________________________________\n",
      "conv2d_1 (Conv2D)            (None, 24, 24, 32)        9248      \n",
      "_________________________________________________________________\n",
      "max_pooling2d (MaxPooling2D) (None, 12, 12, 32)        0         \n",
      "_________________________________________________________________\n",
      "conv2d_2 (Conv2D)            (None, 12, 12, 64)        18496     \n",
      "_________________________________________________________________\n",
      "conv2d_3 (Conv2D)            (None, 12, 12, 64)        36928     \n",
      "_________________________________________________________________\n",
      "max_pooling2d_1 (MaxPooling2 (None, 6, 6, 64)          0         \n",
      "_________________________________________________________________\n",
      "dropout (Dropout)            (None, 6, 6, 64)          0         \n",
      "_________________________________________________________________\n",
      "conv2d_4 (Conv2D)            (None, 6, 6, 64)          36928     \n",
      "_________________________________________________________________\n",
      "conv2d_5 (Conv2D)            (None, 6, 6, 64)          36928     \n",
      "_________________________________________________________________\n",
      "max_pooling2d_2 (MaxPooling2 (None, 3, 3, 64)          0         \n",
      "_________________________________________________________________\n",
      "dropout_1 (Dropout)          (None, 3, 3, 64)          0         \n",
      "_________________________________________________________________\n",
      "flatten (Flatten)            (None, 576)               0         \n",
      "_________________________________________________________________\n",
      "dense (Dense)                (None, 256)               147712    \n",
      "_________________________________________________________________\n",
      "dense_1 (Dense)              (None, 256)               65792     \n",
      "_________________________________________________________________\n",
      "dropout_2 (Dropout)          (None, 256)               0         \n",
      "_________________________________________________________________\n",
      "dense_2 (Dense)              (None, 10)                2570      \n",
      "=================================================================\n",
      "Total params: 354,922\n",
      "Trainable params: 354,922\n",
      "Non-trainable params: 0\n",
      "_________________________________________________________________\n"
     ]
    }
   ],
   "source": [
    "# Define the model for Adam Optimizer\n",
    "model_adam = tf.keras.models.Sequential([\n",
    "  # Layer 1\n",
    "  tf.keras.layers.Conv2D(32,(3,3),activation = 'relu', input_shape=(28,28,1)),\n",
    "  tf.keras.layers.Conv2D(32,(3,3),activation = 'relu'),\n",
    "  tf.keras.layers.MaxPooling2D(2,2),\n",
    "  # Layer 2\n",
    "  tf.keras.layers.Conv2D(64,(3,3),activation = 'relu',padding = 'Same'),\n",
    "  tf.keras.layers.Conv2D(64,(3,3),activation = 'relu',padding = 'Same'),\n",
    "  tf.keras.layers.MaxPooling2D(pool_size = (2,2), strides = (2,2)),\n",
    "  tf.keras.layers.Dropout(0.25),\n",
    "  # Layer 3\n",
    "  tf.keras.layers.Conv2D(64,(3,3),activation = 'relu',padding = 'Same'),\n",
    "  tf.keras.layers.Conv2D(64,(3,3),activation = 'relu',padding = 'Same'),\n",
    "  tf.keras.layers.MaxPooling2D(pool_size = (2,2), strides = (2,2)),\n",
    "  tf.keras.layers.Dropout(0.25),\n",
    "  # FC \n",
    "  tf.keras.layers.Flatten(),\n",
    "  tf.keras.layers.Dense(256, activation='relu'),\n",
    "  tf.keras.layers.Dense(256, activation='relu'),\n",
    "  tf.keras.layers.Dropout(0.50),\n",
    "  tf.keras.layers.Dense(10, activation='softmax')\n",
    "])\n",
    "\n",
    "# Create the same model for SGD Optimizer\n",
    "model_sgd = tf.keras.models.Sequential([\n",
    "  # Layer 1\n",
    "  tf.keras.layers.Conv2D(32,(3,3),activation = 'relu', input_shape=(28,28,1)),\n",
    "  tf.keras.layers.Conv2D(32,(3,3),activation = 'relu'),\n",
    "  tf.keras.layers.MaxPooling2D(2,2),\n",
    "  # Layer 2\n",
    "  tf.keras.layers.Conv2D(64,(3,3),activation = 'relu',padding = 'Same'),\n",
    "  tf.keras.layers.Conv2D(64,(3,3),activation = 'relu',padding = 'Same'),\n",
    "  tf.keras.layers.MaxPooling2D(pool_size = (2,2), strides = (2,2)),\n",
    "  tf.keras.layers.Dropout(0.25),\n",
    "  # Layer 3\n",
    "  tf.keras.layers.Conv2D(64,(3,3),activation = 'relu',padding = 'Same'),\n",
    "  tf.keras.layers.Conv2D(64,(3,3),activation = 'relu',padding = 'Same'),\n",
    "  tf.keras.layers.MaxPooling2D(pool_size = (2,2), strides = (2,2)),\n",
    "  tf.keras.layers.Dropout(0.25),\n",
    "  # FC \n",
    "  tf.keras.layers.Flatten(),\n",
    "  tf.keras.layers.Dense(256, activation='relu'),\n",
    "  tf.keras.layers.Dense(256, activation='relu'),\n",
    "  tf.keras.layers.Dropout(0.50),\n",
    "  tf.keras.layers.Dense(10, activation='softmax')\n",
    "])\n",
    "# Check summary of either model\n",
    "model_adam.summary()"
   ]
  },
  {
   "cell_type": "code",
   "execution_count": 13,
   "metadata": {},
   "outputs": [],
   "source": [
    "# Define the callback function to stop training once the acceptable accuracy is reached\n",
    "\n",
    "class myCallback(tf.keras.callbacks.Callback):\n",
    "        def on_epoch_end(self, epoch, logs={}):\n",
    "            if(logs.get('accuracy') > 0.999):\n",
    "                print(\"\\nReached 99.9% accuracy so cancelling training!\")\n",
    "                self.model.stop_training = True\n",
    "    \n",
    "callbacks = myCallback()"
   ]
  },
  {
   "cell_type": "code",
   "execution_count": 15,
   "metadata": {
    "scrolled": false
   },
   "outputs": [
    {
     "name": "stdout",
     "output_type": "stream",
     "text": [
      "Epoch 1/20\n",
      "630/630 [==============================] - 48s 77ms/step - loss: 0.4225 - accuracy: 0.8581 - val_loss: 0.0723 - val_accuracy: 0.9777\n",
      "Epoch 2/20\n",
      "630/630 [==============================] - 49s 78ms/step - loss: 0.1013 - accuracy: 0.9709 - val_loss: 0.0514 - val_accuracy: 0.9853\n",
      "Epoch 3/20\n",
      "630/630 [==============================] - 48s 77ms/step - loss: 0.0751 - accuracy: 0.9782 - val_loss: 0.0526 - val_accuracy: 0.9855\n",
      "Epoch 4/20\n",
      "630/630 [==============================] - 1257s 2s/step - loss: 0.0586 - accuracy: 0.9833 - val_loss: 0.0363 - val_accuracy: 0.9901\n",
      "Epoch 5/20\n",
      "630/630 [==============================] - 53s 84ms/step - loss: 0.0475 - accuracy: 0.9851 - val_loss: 0.0460 - val_accuracy: 0.9870\n",
      "Epoch 6/20\n",
      "630/630 [==============================] - 49s 78ms/step - loss: 0.0427 - accuracy: 0.9874 - val_loss: 0.0381 - val_accuracy: 0.9900\n",
      "Epoch 7/20\n",
      "630/630 [==============================] - 51s 81ms/step - loss: 0.0352 - accuracy: 0.9891 - val_loss: 0.0368 - val_accuracy: 0.9894\n",
      "Epoch 8/20\n",
      "630/630 [==============================] - 50s 80ms/step - loss: 0.0317 - accuracy: 0.9902 - val_loss: 0.0287 - val_accuracy: 0.9918\n",
      "Epoch 9/20\n",
      "630/630 [==============================] - 49s 78ms/step - loss: 0.0288 - accuracy: 0.9912 - val_loss: 0.0271 - val_accuracy: 0.9916\n",
      "Epoch 10/20\n",
      "630/630 [==============================] - 50s 80ms/step - loss: 0.0266 - accuracy: 0.9918 - val_loss: 0.0346 - val_accuracy: 0.9910\n",
      "Epoch 11/20\n",
      "630/630 [==============================] - 50s 79ms/step - loss: 0.0227 - accuracy: 0.9930 - val_loss: 0.0269 - val_accuracy: 0.9935\n",
      "Epoch 12/20\n",
      "630/630 [==============================] - 50s 80ms/step - loss: 0.0225 - accuracy: 0.9933 - val_loss: 0.0343 - val_accuracy: 0.9904\n",
      "Epoch 13/20\n",
      "630/630 [==============================] - 50s 79ms/step - loss: 0.0220 - accuracy: 0.9939 - val_loss: 0.0291 - val_accuracy: 0.9923\n",
      "Epoch 14/20\n",
      "630/630 [==============================] - 51s 80ms/step - loss: 0.0199 - accuracy: 0.9940 - val_loss: 0.0311 - val_accuracy: 0.9916\n",
      "Epoch 15/20\n",
      "630/630 [==============================] - 551s 874ms/step - loss: 0.0163 - accuracy: 0.9952 - val_loss: 0.0391 - val_accuracy: 0.9912\n",
      "Epoch 16/20\n",
      "630/630 [==============================] - 51s 80ms/step - loss: 0.0151 - accuracy: 0.9954 - val_loss: 0.0313 - val_accuracy: 0.9935\n",
      "Epoch 17/20\n",
      "630/630 [==============================] - 51s 80ms/step - loss: 0.0152 - accuracy: 0.9956 - val_loss: 0.0458 - val_accuracy: 0.9908\n",
      "Epoch 18/20\n",
      "630/630 [==============================] - 50s 79ms/step - loss: 0.0182 - accuracy: 0.9946 - val_loss: 0.0297 - val_accuracy: 0.9929\n",
      "Epoch 19/20\n",
      "630/630 [==============================] - 50s 80ms/step - loss: 0.0121 - accuracy: 0.9966 - val_loss: 0.0321 - val_accuracy: 0.9932\n",
      "Epoch 20/20\n",
      "630/630 [==============================] - 50s 79ms/step - loss: 0.0122 - accuracy: 0.9964 - val_loss: 0.0346 - val_accuracy: 0.9922\n"
     ]
    },
    {
     "data": {
      "text/plain": [
       "<tensorflow.python.keras.callbacks.History at 0x7fb33818ad90>"
      ]
     },
     "execution_count": 15,
     "metadata": {},
     "output_type": "execute_result"
    }
   ],
   "source": [
    "# Adam Optimizer\n",
    "adam_opt = Adam(learning_rate=0.0005, name='adam')\n",
    "model_adam.compile(optimizer=adam_opt, loss='categorical_crossentropy', metrics=['accuracy'])\n",
    "model_adam.fit(X_train, y_train, batch_size=50, epochs=20, callbacks=[callbacks], validation_data=(X_val, y_val))"
   ]
  },
  {
   "cell_type": "code",
   "execution_count": null,
   "metadata": {},
   "outputs": [],
   "source": [
    "# Adam Results\n",
    "# loss: 0.0122 - accuracy: 0.9964 - val_loss: 0.0346 - val_accuracy: 0.9922"
   ]
  },
  {
   "cell_type": "code",
   "execution_count": 16,
   "metadata": {
    "scrolled": false
   },
   "outputs": [
    {
     "name": "stdout",
     "output_type": "stream",
     "text": [
      "Epoch 1/20\n",
      "985/985 [==============================] - 57s 57ms/step - loss: 2.3017 - accuracy: 0.1258 - val_loss: 2.2990 - val_accuracy: 0.1191\n",
      "Epoch 2/20\n",
      "985/985 [==============================] - 56s 57ms/step - loss: 2.2995 - accuracy: 0.1396 - val_loss: 2.2964 - val_accuracy: 0.1116\n",
      "Epoch 3/20\n",
      "985/985 [==============================] - 56s 57ms/step - loss: 2.2973 - accuracy: 0.1379 - val_loss: 2.2935 - val_accuracy: 0.1115\n",
      "Epoch 4/20\n",
      "985/985 [==============================] - 56s 57ms/step - loss: 2.2948 - accuracy: 0.1378 - val_loss: 2.2898 - val_accuracy: 0.1124\n",
      "Epoch 5/20\n",
      "985/985 [==============================] - 57s 57ms/step - loss: 2.2919 - accuracy: 0.1481 - val_loss: 2.2847 - val_accuracy: 0.1179\n",
      "Epoch 6/20\n",
      "985/985 [==============================] - 56s 57ms/step - loss: 2.2872 - accuracy: 0.1696 - val_loss: 2.2771 - val_accuracy: 0.1472\n",
      "Epoch 7/20\n",
      "985/985 [==============================] - 57s 58ms/step - loss: 2.2800 - accuracy: 0.1963 - val_loss: 2.2644 - val_accuracy: 0.3148\n",
      "Epoch 8/20\n",
      "985/985 [==============================] - 58s 59ms/step - loss: 2.2678 - accuracy: 0.2367 - val_loss: 2.2415 - val_accuracy: 0.4212\n",
      "Epoch 9/20\n",
      "985/985 [==============================] - 57s 58ms/step - loss: 2.2425 - accuracy: 0.2770 - val_loss: 2.1889 - val_accuracy: 0.4654\n",
      "Epoch 10/20\n",
      "985/985 [==============================] - 57s 58ms/step - loss: 2.1701 - accuracy: 0.3057 - val_loss: 1.9805 - val_accuracy: 0.5752\n",
      "Epoch 11/20\n",
      "985/985 [==============================] - 58s 59ms/step - loss: 1.8014 - accuracy: 0.4007 - val_loss: 1.0669 - val_accuracy: 0.7206\n",
      "Epoch 12/20\n",
      "985/985 [==============================] - 57s 58ms/step - loss: 1.1787 - accuracy: 0.5944 - val_loss: 0.6256 - val_accuracy: 0.8310\n",
      "Epoch 13/20\n",
      "985/985 [==============================] - 1025s 1s/step - loss: 0.8178 - accuracy: 0.7282 - val_loss: 0.4135 - val_accuracy: 0.8853\n",
      "Epoch 14/20\n",
      "985/985 [==============================] - 60s 61ms/step - loss: 0.6064 - accuracy: 0.8030 - val_loss: 0.2976 - val_accuracy: 0.9177\n",
      "Epoch 15/20\n",
      "985/985 [==============================] - 61s 62ms/step - loss: 0.4776 - accuracy: 0.8507 - val_loss: 0.2387 - val_accuracy: 0.9341\n",
      "Epoch 16/20\n",
      "985/985 [==============================] - 59s 60ms/step - loss: 0.4034 - accuracy: 0.8774 - val_loss: 0.2035 - val_accuracy: 0.9403\n",
      "Epoch 17/20\n",
      "985/985 [==============================] - 58s 59ms/step - loss: 0.3489 - accuracy: 0.8941 - val_loss: 0.1757 - val_accuracy: 0.9483\n",
      "Epoch 18/20\n",
      "985/985 [==============================] - 59s 60ms/step - loss: 0.3116 - accuracy: 0.9051 - val_loss: 0.1607 - val_accuracy: 0.9517\n",
      "Epoch 19/20\n",
      "985/985 [==============================] - 59s 60ms/step - loss: 0.2787 - accuracy: 0.9145 - val_loss: 0.1515 - val_accuracy: 0.9527\n",
      "Epoch 20/20\n",
      "985/985 [==============================] - 59s 60ms/step - loss: 0.2617 - accuracy: 0.9206 - val_loss: 0.1344 - val_accuracy: 0.9608\n"
     ]
    },
    {
     "data": {
      "text/plain": [
       "<tensorflow.python.keras.callbacks.History at 0x7fb2cec51310>"
      ]
     },
     "execution_count": 16,
     "metadata": {},
     "output_type": "execute_result"
    }
   ],
   "source": [
    "# SGD optimizer\n",
    "sgd_opt = SGD(learning_rate=0.0005, momentum=0.5, decay=0.0, nesterov=False) \n",
    "model_sgd.compile(optimizer=sgd_opt, loss='categorical_crossentropy', metrics=['accuracy'])\n",
    "model_sgd.fit(X_train, y_train, epochs=20, callbacks=[callbacks], validation_data=(X_val, y_val))"
   ]
  },
  {
   "cell_type": "code",
   "execution_count": null,
   "metadata": {},
   "outputs": [],
   "source": [
    "# SGD Results\n",
    "# loss: 0.2617 - accuracy: 0.9206 - val_loss: 0.1344 - val_accuracy: 0.9608"
   ]
  },
  {
   "cell_type": "markdown",
   "metadata": {},
   "source": [
    "## Evaluation\n",
    "Looks like the SGD Optimizer had a higher accuracy, 0.9987. Let's do some model evaluation now."
   ]
  },
  {
   "cell_type": "code",
   "execution_count": 18,
   "metadata": {},
   "outputs": [
    {
     "name": "stdout",
     "output_type": "stream",
     "text": [
      "329/329 [==============================] - 2s 7ms/step - loss: 0.0346 - accuracy: 0.9922\n",
      "329/329 [==============================] - 2s 6ms/step - loss: 0.1344 - accuracy: 0.9608\n",
      "Adam Val Accuracy: 0.9921904802322388\n",
      "SGD Val Accuracy: 0.9607619047164917\n"
     ]
    }
   ],
   "source": [
    "# Evaluate both mdoels on the validation set\n",
    "adam_score = model_adam.evaluate(X_val, y_val)\n",
    "sgd_score = model_sgd.evaluate(X_val, y_val)\n",
    "print('Adam Val Accuracy:', adam_score[1])\n",
    "print('SGD Val Accuracy:', sgd_score[1])"
   ]
  },
  {
   "cell_type": "code",
   "execution_count": 19,
   "metadata": {},
   "outputs": [],
   "source": [
    "# Use the Adam model to predict digit values on our test set\n",
    "results = model_adam.predict(X_test_scaled)\n",
    "results = np.argmax(results, axis=1)\n",
    "y_pred = pd.Series(results, name=\"Label\")"
   ]
  },
  {
   "cell_type": "code",
   "execution_count": 22,
   "metadata": {},
   "outputs": [],
   "source": [
    "# Create a correclty formatted csv file for submission!\n",
    "submission = pd.DataFrame({'ImageId': list(range(1, len(y_pred)+1)), 'Label': y_pred})\n",
    "submission.to_csv('./Submission_File/submission.csv', index=False)"
   ]
  },
  {
   "cell_type": "markdown",
   "metadata": {},
   "source": [
    "## Conclusions\n",
    "Provide your conclusions about the work you've done, including any limitations or next steps.\n",
    "\n",
    "***\n",
    "Questions to consider:\n",
    "* What would you recommend the business do as a result of this work?\n",
    "* What are some reasons why your analysis might not fully solve the business problem?\n",
    "* What else could you do in the future to improve this project?\n",
    "***"
   ]
  }
 ],
 "metadata": {
  "kernelspec": {
   "display_name": "Python 3",
   "language": "python",
   "name": "python3"
  },
  "language_info": {
   "codemirror_mode": {
    "name": "ipython",
    "version": 3
   },
   "file_extension": ".py",
   "mimetype": "text/x-python",
   "name": "python",
   "nbconvert_exporter": "python",
   "pygments_lexer": "ipython3",
   "version": "3.8.5"
  }
 },
 "nbformat": 4,
 "nbformat_minor": 4
}
